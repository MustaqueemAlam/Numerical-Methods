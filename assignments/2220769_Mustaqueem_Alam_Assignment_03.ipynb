{
  "cells": [
    {
      "cell_type": "markdown",
      "metadata": {
        "id": "QgRMdhchRK8Z"
      },
      "source": [
        "<a href=\"https://colab.research.google.com/github/mirsazzathossain/CSE317-Lab/blob/autumn_2022/Lab_Assignment_03.ipynb\" target=\"_parent\"><img src=\"https://colab.research.google.com/assets/colab-badge.svg\" alt=\"Open In Colab\"/></a>"
      ]
    },
    {
      "cell_type": "markdown",
      "metadata": {
        "id": "EdJixfQsRK8a"
      },
      "source": [
        "#### **Wheat Seed Classification**\n",
        "\n",
        "In this assignment, you will use the [Wheat Seed Dataset](https://archive.ics.uci.edu/ml/datasets/seeds) to classify the type of wheat seed based on the measurements of the seed. The dataset contains 7 attributes and 210 instances. The attributes are:\n",
        "\n",
        "1. Area\n",
        "2. Perimeter\n",
        "3. Compactness\n",
        "4. Length of Kernel\n",
        "5. Width of Kernel\n",
        "6. Asymmetry Coefficient\n",
        "7. Length of Kernel Groove\n",
        "\n",
        "Based on the attributes, the dataset contains 3 classes:\n",
        "\n",
        "1. Kama\n",
        "2. Rosa\n",
        "3. Canadian\n",
        "\n",
        "The text file `seeds_dataset.txt` contains the dataset. The first 7 columns are the attributes and the last column is the class label. The class labels are encoded as  1, 2, and 3 for Kama, Rosa, and Canadian, respectively. The goal of this assignment is to build a classifier that can predict the type of wheat seed based on the measurements of the seed. Follow the instructions below to complete the assignment."
      ]
    },
    {
      "cell_type": "markdown",
      "metadata": {
        "id": "qC3NlPMcRK8b"
      },
      "source": [
        "#### **Instructions**\n",
        "\n",
        "1. Download the dataset from [Github](https://minhaskamal.github.io/DownGit/#/home?url=https://github.com/mirsazzathossain/CSE317-Lab-Numerical-Methods/blob/main/datasets/seeds_dataset.txt). It should be saved as `seeds_dataset.txt`.\n",
        "2. Upload the dataset to your Google Drive and mount your Google Drive to Colab.\n",
        "3. Read the dataset using numpy's built-in function `np.genfromtxt()`. Pass the following parameters to the function:\n",
        "    - `fname`: The path to the dataset\n",
        "    - `delimiter`: The delimiter used in the dataset to separate the attributes (Hint: Use `'\\t'` as the delimiter)\n",
        "    \n",
        "4. Shuffle the dataset using `np.random.shuffle()`. Pass the following parameters to the function:\n",
        "    - `x`: The dataset\n",
        "5. Split the dataset into features and labels. The first 7 columns of the dataset are the features and the last column is the label. Use numpy's array slicing to split the dataset into features and labels. (Hint: Use `:` to select all the rows and `0:7` to select the first 7 columns for features and `7` to select the last column for labels)\n",
        "6. Split the dataset into training and testing sets. Use numpy's built-in function `np.split()` to split the dataset into training and testing sets. Pass the following parameters to the function:\n",
        "    - `ary`: The dataset\n",
        "    - `indices_or_sections`: The number of instances in the training set (Hint: Use `int(0.8 * len(dataset))` to get the number of instances in the training set)\n",
        "    - `axis`: The axis to split the dataset (Hint: Use `0` to split the dataset along the rows)\n",
        "7. Find the minimum and maximum values of each feature in the training set. Use numpy's built-in function `np.min()` and `np.max()` to find the minimum and maximum values of each feature in the training set. Pass the following parameters to the function:\n",
        "    - `a`: The training set\n",
        "    - `axis`: The axis to find the minimum and maximum values (Hint: Use `0` to find the minimum and maximum values along the columns)\n",
        "8. In this step, you must normalize the training and test sets. Nomalization is an essential part of every machine learning project. It is used to bring all the features to the same scale. If the features are not normalized, the higher-valued features will outnumber the lower-valued ones.\n",
        "\n",
        "    For example, suppose we have a dataset with two features: the number of bedrooms in a house and the size of the garden in square feet and we are trying to forecast the rent of the residence. If the features are not normalized, the feature with higher values will take precedence over the feature with lower values. In this scenario, the garden area has a greater value. As a result, the model will make an attempt to forecast the house's price depending on the size of the garden. As a consequence, the model will be faulty since most individuals will not pay higher rent for more garden area. We need to normalize the features in order to prevent this. Let's look at the following illustration to better comprehend what we have said:\n",
        "    \n",
        "    - House 1: 2 bedrooms, 2500 sq. ft. garden\n",
        "    - House 2: 3 bedrooms, 500 sq. ft. garden\n",
        "    - House 3: 7 bedrooms, 2300 sq. ft. garden\n",
        "\n",
        "    Considering that most people won't pay more for a larger garden, it follows that the rent for House 1 should be more comparable to House 2 than to House 3. However, if we give the aforementioned data to a k-NN classifier without normalization, it will compute the euclidean distance between the test and training examples and pick the class of the test instance based on the class of the closest training instance.\n",
        "\n",
        "    The euclidean distance between the test instance and the training instances will be:\n",
        "\n",
        "    - Distance between house 1 and house 2: $\\sqrt{(2-3)^2 + (2500-500)^2} = 2000$\n",
        "    - Distance between house 1 and house 3: $\\sqrt{(2-7)^2 + (2500-2300)^2} = 200$\n",
        "\n",
        "    As you can see, the distance between houses 1 and 3 is shorter than that between houses 1 and 2. As a result, the model will forecast that house 1 will cost around the same as house 3. This is not what was anticipated. We need to normalize the features in order to prevent this. To normalize the features, subtract the minimum value of each feature from all the values of that feature and divide the result by the range of the feature. The range of a feature is the difference between the maximum and minimum values of that feature. The formula for normalization is given below:\n",
        "\n",
        "    $$x_{normalized} = \\frac{x - min(x)}{max(x) - min(x)}$$\n",
        "\n",
        "    where $x$ is the feature vector. The above formula will normalize the features to a scale of 0 to 1.\n",
        "\n",
        "    Let's normalize the features in the above example. To do so, we need to find the minimum and maximum values of each feature. The minimum and maximum values of the number of bedrooms are 2 and 7, respectively. The minimum and maximum values of the garden area are 500 and 2500, respectively. The normalized values of the features are given below:\n",
        "\n",
        "    - House 1: $(2 - 2) / 5 = 0$ bedrooms, $(2500 - 500) / 2000 = 0.75$ sq. ft. garden\n",
        "    - House 2: $(3 - 2) / 5 = 0.2$ bedrooms, $(500 - 500) / 2000 = 0$ sq. ft. garden\n",
        "    - House 3: $(7 - 2) / 5 = 1$ bedrooms, $(2300 - 500) / 2000 = 0.85$ sq. ft. garden\n",
        "\n",
        "    Now, the euclidean distance between the test instance and the training instances will be:\n",
        "\n",
        "    - Distance between house 1 and house 2: $\\sqrt{(0-0.2)^2 + (0.75-0)^2} = 0.77$\n",
        "    - Distance between house 1 and house 3: $\\sqrt{(0-1)^2 + (0.75-0.9)^2} = 1.11$\n",
        "\n",
        "    As you can see now, the distance between houses 1 and 2 is shorter than that between houses 1 and 3. The model will thus forecast that house 1 will cost about the same as house 2, according to the prediction. This is what is anticipated. This is what normalization does. It equalizes the scale of all features. This is important because it prevents the features with higher values from dominating the features with lower values.\n",
        "\n",
        "    Use the minimum and maximum values you found in the previous step to normalize the training and test sets.\n",
        "9. Now, you have to build a classifier to classify the type of wheat seed based on the measurements of the seed. Use the K-Nearest Neighbors algorithm to build the classifier. Use the Euclidean distance to find the nearest neighbors.\n",
        "\n",
        "10. Output the number of data points in the testing set and the number of correct predictions made by the classifier for each class."
      ]
    },
    {
      "cell_type": "markdown",
      "source": [
        "*   2220769\n",
        "*   Mustaqueem Alam\n",
        "*   CSE 317_ Lab _ Section_ 1"
      ],
      "metadata": {
        "id": "j1L6HxgbS1jD"
      }
    },
    {
      "cell_type": "markdown",
      "source": [
        "1. Download the dataset from Github. It should be saved as seeds_dataset.txt."
      ],
      "metadata": {
        "id": "xN0mMCrhTO7l"
      }
    },
    {
      "cell_type": "code",
      "source": [
        "#Downloaded sucessfully and uploaded to Google drive"
      ],
      "metadata": {
        "id": "UDE3YlBxlB0I"
      },
      "execution_count": 168,
      "outputs": []
    },
    {
      "cell_type": "code",
      "source": [
        "# importing all necessary libraries:\n",
        "import numpy as np\n",
        "from collections import Counter\n",
        "from sklearn.neighbors import KNeighborsClassifier\n",
        "import numpy as np\n",
        "import pandas as pd\n",
        "import seaborn as sns\n",
        "import matplotlib.pyplot as plt\n",
        "from sklearn.metrics import confusion_matrix"
      ],
      "metadata": {
        "id": "eG9BwBfWTJbE"
      },
      "execution_count": 169,
      "outputs": []
    },
    {
      "cell_type": "markdown",
      "source": [
        "2. Upload the dataset to your Google Drive and mount your Google Drive to Colab."
      ],
      "metadata": {
        "id": "HbYVGrzRTWBg"
      }
    },
    {
      "cell_type": "code",
      "source": [
        "from google.colab import drive\n",
        "drive.mount('/content/drive')"
      ],
      "metadata": {
        "colab": {
          "base_uri": "https://localhost:8080/"
        },
        "id": "wre4JzNZThIF",
        "outputId": "98f0c622-f9eb-4126-c4c7-ab59ae865041"
      },
      "execution_count": 170,
      "outputs": [
        {
          "output_type": "stream",
          "name": "stdout",
          "text": [
            "Drive already mounted at /content/drive; to attempt to forcibly remount, call drive.mount(\"/content/drive\", force_remount=True).\n"
          ]
        }
      ]
    },
    {
      "cell_type": "markdown",
      "source": [
        "3. Read the dataset using numpy's built-in function `np.genfromtxt()`. Pass the following parameters to the function:\n",
        "    - `fname`: The path to the dataset\n",
        "    - `delimiter`: The delimiter used in the dataset to separate the attributes (Hint: Use `'\\t'` as the delimiter)\n",
        "    "
      ],
      "metadata": {
        "id": "u0sW_vUQTiPO"
      }
    },
    {
      "cell_type": "code",
      "source": [
        "fname = '/content/drive/MyDrive/Numerical_Lab_Datasets/seeds_dataset.txt'\n",
        "dataset = np.genfromtxt(fname=fname, delimiter='\\t')\n",
        "print(dataset.shape)\n",
        "print(dataset)"
      ],
      "metadata": {
        "colab": {
          "base_uri": "https://localhost:8080/"
        },
        "id": "ILQkx8N_Th8W",
        "outputId": "a87e1ac5-f487-4219-badf-b6c52d27354d"
      },
      "execution_count": 171,
      "outputs": [
        {
          "output_type": "stream",
          "name": "stdout",
          "text": [
            "(210, 8)\n",
            "[[15.26   14.84    0.871  ...  2.221   5.22    1.    ]\n",
            " [14.88   14.57    0.8811 ...  1.018   4.956   1.    ]\n",
            " [14.29   14.09    0.905  ...  2.699   4.825   1.    ]\n",
            " ...\n",
            " [13.2    13.66    0.8883 ...  8.315   5.056   3.    ]\n",
            " [11.84   13.21    0.8521 ...  3.598   5.044   3.    ]\n",
            " [12.3    13.34    0.8684 ...  5.637   5.063   3.    ]]\n"
          ]
        }
      ]
    },
    {
      "cell_type": "markdown",
      "source": [
        "4. Shuffle the dataset using `np.random.shuffle()`. Pass the following parameters to the function:\n",
        "    - `x`: The dataset"
      ],
      "metadata": {
        "id": "tiAhAWMSThvF"
      }
    },
    {
      "cell_type": "code",
      "source": [
        "np.random.shuffle(dataset)\n",
        "print(dataset)"
      ],
      "metadata": {
        "colab": {
          "base_uri": "https://localhost:8080/"
        },
        "id": "HfgxyxV2TklG",
        "outputId": "8991d5bd-424a-499b-bc86-d288defa1dbb"
      },
      "execution_count": 172,
      "outputs": [
        {
          "output_type": "stream",
          "name": "stdout",
          "text": [
            "[[13.74   14.05    0.8744 ...  2.932   4.825   1.    ]\n",
            " [11.43   13.13    0.8335 ...  2.221   5.132   3.    ]\n",
            " [17.32   15.91    0.8599 ...  3.824   5.922   2.    ]\n",
            " ...\n",
            " [11.23   12.88    0.8511 ...  4.325   5.003   3.    ]\n",
            " [15.69   14.75    0.9058 ...  1.599   5.046   1.    ]\n",
            " [17.55   15.66    0.8991 ...  5.366   5.661   2.    ]]\n"
          ]
        }
      ]
    },
    {
      "cell_type": "markdown",
      "source": [
        "5. Split the dataset into features and labels. The first 7 columns of the dataset are the features and the last column is the label. Use numpy's array slicing to split the dataset into features and labels. (Hint: Use `:` to select all the rows and `0:7` to select the first 7 columns for features and `7` to select the last column for labels)"
      ],
      "metadata": {
        "id": "XNzYhprWTkeg"
      }
    },
    {
      "cell_type": "code",
      "source": [
        "features = dataset[:, :7]\n",
        "labels = dataset[:, 7]\n",
        "print(features,'\\n', labels)"
      ],
      "metadata": {
        "colab": {
          "base_uri": "https://localhost:8080/"
        },
        "id": "oZYgLcWwTkTI",
        "outputId": "c76b6e67-59a7-4e53-f6b6-2b923653d724"
      },
      "execution_count": 173,
      "outputs": [
        {
          "output_type": "stream",
          "name": "stdout",
          "text": [
            "[[13.74   14.05    0.8744 ...  3.114   2.932   4.825 ]\n",
            " [11.43   13.13    0.8335 ...  2.719   2.221   5.132 ]\n",
            " [17.32   15.91    0.8599 ...  3.403   3.824   5.922 ]\n",
            " ...\n",
            " [11.23   12.88    0.8511 ...  2.795   4.325   5.003 ]\n",
            " [15.69   14.75    0.9058 ...  3.514   1.599   5.046 ]\n",
            " [17.55   15.66    0.8991 ...  3.69    5.366   5.661 ]] \n",
            " [1. 3. 2. 3. 3. 1. 2. 1. 1. 2. 1. 1. 3. 3. 3. 1. 2. 2. 1. 2. 1. 2. 3. 2.\n",
            " 3. 1. 1. 2. 3. 1. 2. 1. 2. 2. 2. 3. 1. 1. 2. 3. 1. 1. 1. 3. 1. 2. 1. 3.\n",
            " 3. 3. 3. 2. 2. 2. 1. 3. 3. 2. 3. 1. 2. 1. 1. 1. 2. 2. 1. 2. 1. 3. 2. 2.\n",
            " 3. 3. 1. 2. 3. 1. 3. 1. 1. 2. 2. 1. 3. 3. 1. 2. 1. 2. 2. 3. 2. 1. 1. 3.\n",
            " 2. 2. 3. 1. 2. 1. 2. 1. 3. 2. 2. 1. 1. 3. 3. 1. 2. 2. 3. 1. 3. 3. 1. 2.\n",
            " 3. 3. 2. 2. 2. 1. 2. 1. 2. 3. 2. 3. 2. 1. 2. 3. 3. 1. 1. 1. 1. 2. 1. 3.\n",
            " 1. 3. 1. 2. 1. 3. 2. 3. 2. 3. 3. 2. 2. 3. 3. 2. 3. 1. 1. 3. 3. 3. 3. 3.\n",
            " 3. 1. 1. 2. 1. 3. 2. 1. 1. 1. 3. 3. 1. 3. 2. 3. 3. 2. 2. 2. 1. 1. 2. 2.\n",
            " 3. 3. 1. 3. 1. 2. 2. 3. 2. 3. 1. 3. 2. 3. 2. 3. 1. 2.]\n"
          ]
        }
      ]
    },
    {
      "cell_type": "markdown",
      "source": [
        "6. Split the dataset into training and testing sets. Use numpy's built-in function `np.split()` to split the dataset into training and testing sets. Pass the following parameters to the function:\n",
        "    - `ary`: The dataset\n",
        "    - `indices_or_sections`: The number of instances in the training set (Hint: Use `int(0.8 * len(dataset))` to get the number of instances in the training set)\n",
        "    - `axis`: The axis to split the dataset (Hint: Use `0` to split the dataset along the rows)"
      ],
      "metadata": {
        "id": "wrWXxpLdTkNO"
      }
    },
    {
      "cell_type": "code",
      "source": [
        "training_set, testing_set = np.split(dataset, [int(0.8 * len(dataset))], axis = 0)\n",
        "print(training_set)"
      ],
      "metadata": {
        "colab": {
          "base_uri": "https://localhost:8080/"
        },
        "id": "5JIICiGmTkCW",
        "outputId": "5259602c-a220-4f63-ac7c-6146cb0e6383"
      },
      "execution_count": 174,
      "outputs": [
        {
          "output_type": "stream",
          "name": "stdout",
          "text": [
            "[[13.74   14.05    0.8744 ...  2.932   4.825   1.    ]\n",
            " [11.43   13.13    0.8335 ...  2.221   5.132   3.    ]\n",
            " [17.32   15.91    0.8599 ...  3.824   5.922   2.    ]\n",
            " ...\n",
            " [12.7    13.41    0.8874 ...  8.456   5.      3.    ]\n",
            " [13.34   13.95    0.862  ...  5.995   5.307   3.    ]\n",
            " [12.37   13.47    0.8567 ...  3.919   5.001   3.    ]]\n"
          ]
        }
      ]
    },
    {
      "cell_type": "markdown",
      "source": [
        "7. Find the minimum and maximum values of each feature in the training set. Use numpy's built-in function `np.min()` and `np.max()` to find the minimum and maximum values of each feature in the training set. Pass the following parameters to the function:\n",
        "    - `a`: The training set\n",
        "    - `axis`: The axis to find the minimum and maximum values (Hint: Use `0` to find the minimum and maximum values along the columns)"
      ],
      "metadata": {
        "id": "bN2bjUx6Tj5G"
      }
    },
    {
      "cell_type": "code",
      "source": [
        "maximum_value = np.max(training_set, axis = 0)\n",
        "minimum_value = np.min(training_set, axis = 0)\n",
        "\n",
        "print(maximum_value, '\\n', minimum_value)"
      ],
      "metadata": {
        "colab": {
          "base_uri": "https://localhost:8080/"
        },
        "id": "uWJO6oMGdpwD",
        "outputId": "f243f9e2-2ff0-40ba-d06d-f0226e59227a"
      },
      "execution_count": 175,
      "outputs": [
        {
          "output_type": "stream",
          "name": "stdout",
          "text": [
            "[21.18   17.25    0.9183  6.675   4.033   8.456   6.55    3.    ] \n",
            " [10.74   12.57    0.8081  4.981   2.63    0.8551  4.605   1.    ]\n"
          ]
        }
      ]
    },
    {
      "cell_type": "markdown",
      "source": [
        "8. In this step, you must normalize the training and test sets. Nomalization is an essential part of every machine learning project. It is used to bring all the features to the same scale. If the features are not normalized, the higher-valued features will outnumber the lower-valued ones."
      ],
      "metadata": {
        "id": "CxiNUMp_cmLf"
      }
    },
    {
      "cell_type": "code",
      "source": [
        "train_features = training_set[:, :7]\n",
        "train_label = training_set[:, 7]\n",
        "\n",
        "test_features = testing_set[:, :7]\n",
        "test_label = testing_set[:, 7]\n",
        "\n",
        "min_value = np.min(train_features, axis = 0)\n",
        "max_value = np.max(train_features, axis = 0)\n",
        "\n",
        "train_features_normalized = (train_features - min_value) / (max_value - min_value)\n",
        "test_features_normalized = (test_features - min_value) / (max_value - min_value)\n",
        "\n",
        "print(train_features_normalized)\n",
        "print(test_features_normalized)"
      ],
      "metadata": {
        "colab": {
          "base_uri": "https://localhost:8080/"
        },
        "id": "9NaMcO2RclxP",
        "outputId": "fb6955c0-344c-4dfe-d822-5910f89ad4c1"
      },
      "execution_count": 176,
      "outputs": [
        {
          "output_type": "stream",
          "name": "stdout",
          "text": [
            "[[0.28735632 0.31623932 0.60163339 ... 0.34497505 0.27324396 0.11311054]\n",
            " [0.06609195 0.11965812 0.23049002 ... 0.0634355  0.1797024  0.27095116]\n",
            " [0.6302682  0.71367521 0.47005445 ... 0.55096222 0.39059848 0.67712082]\n",
            " ...\n",
            " [0.18773946 0.17948718 0.71960073 ... 0.32858161 1.         0.20308483]\n",
            " [0.24904215 0.29487179 0.48911071 ... 0.31646472 0.67622255 0.36092545]\n",
            " [0.15613027 0.19230769 0.44101633 ... 0.23521026 0.403097   0.20359897]]\n",
            "[[ 1.87739464e-01  2.43589744e-01  3.72050817e-01  2.39079103e-01\n",
            "   2.00285103e-01  3.16396742e-01  3.65552699e-01]\n",
            " [ 4.12835249e-01  4.50854701e-01  6.33393829e-01  4.31523022e-01\n",
            "   4.97505346e-01  1.67598574e-01  3.88174807e-01]\n",
            " [ 2.18390805e-01  2.54273504e-01  5.08166969e-01  2.44391972e-01\n",
            "   2.82252316e-01  3.31263403e-01  1.13110540e-01]\n",
            " [ 4.44444444e-01  4.46581197e-01  8.24863884e-01  2.92798111e-01\n",
            "   5.95153243e-01  3.61128287e-01  4.28791774e-01]\n",
            " [ 4.69348659e-02  1.28205128e-02  6.88747731e-01 -4.66351830e-02\n",
            "   1.77476835e-01  1.86017445e-01  5.03856041e-02]\n",
            " [ 1.31226054e-01  1.49572650e-01  5.06352087e-01  1.50531287e-01\n",
            "   2.45901639e-01  4.31119999e-01  2.09254499e-01]\n",
            " [ 6.94444444e-01  7.02991453e-01  8.26678766e-01  5.36599764e-01\n",
            "   7.58374911e-01  1.59573208e-01  6.33419023e-01]\n",
            " [ 3.62068966e-01  4.33760684e-01  4.31941924e-01  4.48642267e-01\n",
            "   3.44262295e-01  8.23455117e-02  4.53470437e-01]\n",
            " [ 2.96934866e-01  2.92735043e-01  7.93103448e-01  2.02479339e-01\n",
            "   5.33856023e-01  1.84701812e-01  1.02827763e-01]\n",
            " [ 4.09003831e-01  4.67948718e-01  5.22686025e-01  4.76977568e-01\n",
            "   4.38346401e-01  1.23130156e-01  2.03598972e-01]\n",
            " [-1.43678161e-02 -3.41880342e-02  5.14519056e-01 -4.84061393e-02\n",
            "   1.11903065e-01  5.42027918e-01  9.71722365e-02]\n",
            " [ 1.35057471e-01  1.88034188e-01  3.28493648e-01  2.57378985e-01\n",
            "   1.47540984e-01  3.66127695e-01  3.76863753e-01]\n",
            " [ 3.27586207e-01  3.91025641e-01  4.56442831e-01  3.99645809e-01\n",
            "   3.55666429e-01  2.91662829e-01  2.93573265e-01]\n",
            " [ 1.96360153e-01  2.05128205e-01  6.39745917e-01  1.43447462e-01\n",
            "   3.02209551e-01  6.08862108e-01  1.81491003e-01]\n",
            " [ 5.25862069e-01  5.57692308e-01  6.97822142e-01  5.25974026e-01\n",
            "   6.00142552e-01  3.83362497e-01  6.77120823e-01]\n",
            " [ 5.84291188e-02  1.17521368e-01  1.90562613e-01  1.15112161e-01\n",
            "   2.70848182e-02  4.58090489e-01  2.70951157e-01]\n",
            " [ 2.23180077e-01  2.88461538e-01  3.62068966e-01  2.89846517e-01\n",
            "   2.59444048e-01  5.85312266e-01  4.06169666e-01]\n",
            " [ 4.44444444e-01  4.97863248e-01  5.67150635e-01  5.33057851e-01\n",
            "   4.54739843e-01  4.74535910e-01  6.11825193e-01]\n",
            " [ 7.51915709e-01  7.43589744e-01  8.93829401e-01  6.23376623e-01\n",
            "   8.76692801e-01  6.77011933e-01  6.53984576e-01]\n",
            " [ 8.96551724e-01  9.44444444e-01  6.03448276e-01  9.44510035e-01\n",
            "   8.23235923e-01  1.44706548e-01  9.48071979e-01]\n",
            " [ 2.93103448e-01  3.14102564e-01  6.47005445e-01  2.33175915e-01\n",
            "   3.74198147e-01  9.27390177e-02  1.83033419e-01]\n",
            " [ 3.87931034e-01  4.16666667e-01  6.69691470e-01  3.32939787e-01\n",
            "   4.71133286e-01  2.43247510e-01  2.60154242e-01]\n",
            " [ 6.24521073e-01  6.75213675e-01  6.18874773e-01  5.88547816e-01\n",
            "   6.87099073e-01  4.84666290e-01  6.09768638e-01]\n",
            " [ 7.86398467e-01  8.22649573e-01  6.78765880e-01  7.47933884e-01\n",
            "   8.01853172e-01  3.30605586e-01  7.93316195e-01]\n",
            " [ 4.31034483e-02  1.02564103e-01  1.56079855e-01  1.58795750e-01\n",
            "   3.20741269e-02  6.52278020e-01  3.15681234e-01]\n",
            " [ 1.21647510e-01  2.02991453e-01  1.52450091e-01  2.50295159e-01\n",
            "   1.04062723e-01  8.07391230e-01  3.41902314e-01]\n",
            " [ 4.92337165e-01  4.97863248e-01  8.23049002e-01  3.76033058e-01\n",
            "   6.25089095e-01 -1.18407031e-02  2.49871465e-01]\n",
            " [ 4.50191571e-02  1.19658120e-01  7.80399274e-02  1.75914994e-01\n",
            "   4.06272274e-02  6.99114579e-01  3.44473008e-01]\n",
            " [ 3.59195402e-01  4.35897436e-01  4.14700544e-01  4.33293979e-01\n",
            "   3.44262295e-01  4.29014985e-01  4.06683805e-01]\n",
            " [ 4.61685824e-01  4.95726496e-01  6.73321234e-01  4.69303424e-01\n",
            "   5.54526016e-01  5.41633228e-01  6.38560411e-01]\n",
            " [ 9.02298851e-01  9.52991453e-01  5.93466425e-01  9.04368359e-01\n",
            "   8.14682823e-01  1.38786196e-01  8.12339332e-01]\n",
            " [ 1.38888889e-01  1.34615385e-01  6.37023593e-01  9.20897285e-02\n",
            "   2.50178190e-01  3.65206752e-01  1.36246787e-01]\n",
            " [ 5.84291188e-01  6.62393162e-01  4.91833031e-01  6.00354191e-01\n",
            "   6.08695652e-01  5.02558907e-01  6.53984576e-01]\n",
            " [ 9.67432950e-02  2.02991453e-01  9.07441016e-04  2.73317591e-01\n",
            "   3.42124020e-02  4.63484587e-01  3.62467866e-01]\n",
            " [ 1.31226054e-01  1.92307692e-01  2.82214156e-01  1.05076741e-01\n",
            "   2.86528867e-01  8.51083424e-02 -4.42159383e-02]\n",
            " [ 4.78927203e-03  7.69230769e-02  2.35934664e-02  1.98347107e-01\n",
            "   1.28296507e-02  6.06099278e-01  3.02827763e-01]\n",
            " [ 7.79693487e-01  7.88461538e-01  8.05807623e-01  6.51121606e-01\n",
            "   8.08267997e-01  1.04448157e-01  7.73264781e-01]\n",
            " [ 1.22605364e-01  1.62393162e-01  3.82940109e-01  2.17827627e-01\n",
            "   1.28296507e-01  4.49407307e-01  3.61439589e-01]\n",
            " [ 9.09961686e-01  9.27350427e-01  7.40471869e-01  7.87485242e-01\n",
            "   9.49394155e-01  6.63855596e-01  8.13881748e-01]\n",
            " [ 4.69348659e-02  6.62393162e-02  3.90199637e-01  9.38606848e-02\n",
            "   1.17605132e-01  4.56511729e-01  2.04627249e-01]\n",
            " [ 4.74137931e-01  4.65811966e-01  8.86569873e-01  3.22314050e-01\n",
            "   6.30078403e-01  9.78699891e-02  2.26735219e-01]\n",
            " [ 6.52298851e-01  6.60256410e-01  8.25771325e-01  4.78158205e-01\n",
            "   7.55523877e-01  5.93469194e-01  5.42930591e-01]]\n"
          ]
        }
      ]
    },
    {
      "cell_type": "markdown",
      "source": [
        "9. Now, you have to build a classifier to classify the type of wheat seed based on the measurements of the seed. Use the K-Nearest Neighbors algorithm to build the classifier. Use the Euclidean distance to find the nearest neighbors."
      ],
      "metadata": {
        "id": "PnJU7gRkclo2"
      }
    },
    {
      "cell_type": "code",
      "source": [
        "# uses lib from sklearn.neighbors import KNeighborsClassifier\n",
        "\n",
        "classifier = KNeighborsClassifier(n_neighbors = 3, metric = 'euclidean')\n",
        "classifier.fit(train_features_normalized, train_label)\n",
        "\n",
        "predictions = classifier.predict(test_features_normalized)\n",
        "\n",
        "score = classifier.score(test_features_normalized, test_label)\n",
        "print(score)\n",
        "\n",
        "print(\"Actual: \", test_label)\n",
        "print(\"Predicted: \", predictions)"
      ],
      "metadata": {
        "colab": {
          "base_uri": "https://localhost:8080/"
        },
        "id": "reHvDxR3clZG",
        "outputId": "a3142538-a7ff-472e-b480-8d8aa3403bc1"
      },
      "execution_count": 177,
      "outputs": [
        {
          "output_type": "stream",
          "name": "stdout",
          "text": [
            "0.9761904761904762\n",
            "Actual:  [3. 1. 1. 2. 1. 3. 2. 1. 1. 1. 3. 3. 1. 3. 2. 3. 3. 2. 2. 2. 1. 1. 2. 2.\n",
            " 3. 3. 1. 3. 1. 2. 2. 3. 2. 3. 1. 3. 2. 3. 2. 3. 1. 2.]\n",
            "Predicted:  [3. 1. 1. 1. 1. 3. 2. 1. 1. 1. 3. 3. 1. 3. 2. 3. 3. 2. 2. 2. 1. 1. 2. 2.\n",
            " 3. 3. 1. 3. 1. 2. 2. 3. 2. 3. 1. 3. 2. 3. 2. 3. 1. 2.]\n"
          ]
        }
      ]
    },
    {
      "cell_type": "markdown",
      "source": [
        "10. Output the number of data points in the testing set and the number of correct predictions made by the classifier for each class."
      ],
      "metadata": {
        "id": "eh6w1haGck2-"
      }
    },
    {
      "cell_type": "code",
      "source": [
        "# Assuming you already have test_label and predictions defined\n",
        "num_test_points = len(test_label)\n",
        "print(f\"Total number of data points in the testing set: {num_test_points}\")\n",
        "\n",
        "\n",
        "# Ensure labels are integers\n",
        "test_labels = test_label.astype(int)\n",
        "test_predictions = predictions.astype(int)\n",
        "\n",
        "\n",
        "\n",
        "# Unique classes\n",
        "unique_classes = np.unique(test_labels)\n",
        "\n",
        "\n",
        "\n",
        "# Correct predictions per class\n",
        "correct_predictions_per_class = {\n",
        "    cls: np.sum((test_labels == cls) & (test_predictions == cls)) for cls in unique_classes\n",
        "}\n",
        "\n",
        "print(\"\\nNumber of correct predictions for each class:\")\n",
        "for cls, correct in correct_predictions_per_class.items():\n",
        "    print(f\"Class {cls}: {correct} correct predictions\")\n",
        "\n",
        "\n",
        "# Confusion matrix\n",
        "conf_matrix = confusion_matrix(test_labels, test_predictions)\n",
        "print(\"\\nConfusion Matrix (NumPy Array):\")\n",
        "print(conf_matrix)\n",
        "\n",
        "\n",
        "\n",
        "\n",
        "# DataFrame\n",
        "conf_df = pd.DataFrame(conf_matrix, index=unique_classes, columns=unique_classes)\n",
        "print(\"\\nConfusion Matrix (DataFrame Format):\")\n",
        "print(conf_df)\n",
        "# Heatmap of Conf matrix\n",
        "plt.figure(figsize=(8, 6))\n",
        "sns.heatmap(conf_df, annot=True, fmt=\"d\", cmap=\"YlGnBu\", cbar=True,\n",
        "            xticklabels=unique_classes, yticklabels=unique_classes)\n",
        "plt.xlabel(\"Predicted Labels\")\n",
        "plt.ylabel(\"True Labels\")\n",
        "plt.title(\"Confusion Matrix Heatmap\")\n",
        "plt.tight_layout()\n",
        "plt.show()\n"
      ],
      "metadata": {
        "colab": {
          "base_uri": "https://localhost:8080/",
          "height": 921
        },
        "id": "v335BjD7coW4",
        "outputId": "b00bdf42-0dde-44c3-efd7-bf5405cc0375"
      },
      "execution_count": 178,
      "outputs": [
        {
          "output_type": "stream",
          "name": "stdout",
          "text": [
            "Total number of data points in the testing set: 42\n",
            "\n",
            "Number of correct predictions for each class:\n",
            "Class 1: 13 correct predictions\n",
            "Class 2: 13 correct predictions\n",
            "Class 3: 15 correct predictions\n",
            "\n",
            "Confusion Matrix (NumPy Array):\n",
            "[[13  0  0]\n",
            " [ 1 13  0]\n",
            " [ 0  0 15]]\n",
            "\n",
            "Confusion Matrix (DataFrame Format):\n",
            "    1   2   3\n",
            "1  13   0   0\n",
            "2   1  13   0\n",
            "3   0   0  15\n"
          ]
        },
        {
          "output_type": "display_data",
          "data": {
            "text/plain": [
              "<Figure size 800x600 with 2 Axes>"
            ],
            "image/png": "[encoded data removed]"
          },
          "metadata": {}
        }
      ]
    }
  ],
  "metadata": {
    "kernelspec": {
      "display_name": "Python 3",
      "language": "python",
      "name": "python3"
    },
    "language_info": {
      "codemirror_mode": {
        "name": "ipython",
        "version": 3
      },
      "file_extension": ".py",
      "mimetype": "text/x-python",
      "name": "python",
      "nbconvert_exporter": "python",
      "pygments_lexer": "ipython3",
      "version": "3.10.6 (tags/v3.10.6:9c7b4bd, Aug  1 2022, 21:53:49) [MSC v.1932 64 bit (AMD64)]"
    },
    "orig_nbformat": 4,
    "vscode": {
      "interpreter": {
        "hash": "b148fc9bfa8b60132af830e32e1690e4e023b803e92912df15b823b90141dda6"
      }
    },
    "colab": {
      "provenance": []
    }
  },
  "nbformat": 4,
  "nbformat_minor": 0
}