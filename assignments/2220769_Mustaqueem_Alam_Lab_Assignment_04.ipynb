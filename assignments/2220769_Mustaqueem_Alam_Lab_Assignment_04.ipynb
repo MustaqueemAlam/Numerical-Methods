{
  "cells": [
    {
      "cell_type": "markdown",
      "metadata": {
        "id": "5c7AUZ3jMJY_"
      },
      "source": [
        "<a href=\"https://colab.research.google.com/github/mirsazzathossain/CSE317-Lab/blob/autumn_2022/Lab_Assignment_04.ipynb\" target=\"_parent\"><img src=\"https://colab.research.google.com/assets/colab-badge.svg\" alt=\"Open In Colab\"/></a>"
      ]
    },
    {
      "cell_type": "markdown",
      "source": [
        "*   Mustaqueem Alam\n",
        "*   2220769\n",
        "*   Spring 2025\n",
        "*   Section 01"
      ],
      "metadata": {
        "id": "EBXWJjlk_vXw"
      }
    },
    {
      "cell_type": "markdown",
      "metadata": {
        "id": "kAPQiFOHL9aw"
      },
      "source": [
        "#### **Polynomial Regression**\n",
        "\n",
        "In this assignment, you will implement polynomial regression and apply it to the [Assignment 4 Dataset](https://minhaskamal.github.io/DownGit/#/home?url=https://github.com/mirsazzathossain/CSE317-Lab-Numerical-Methods/blob/main/datasets/data.csv).\n",
        "\n",
        "The dataset contains two columns, the first column is the feature and the second column is the label. The goal is find the best fit line for the data.\n",
        "\n",
        "You will need to perform the following regression tasks and find the best one for the dataset.\n",
        "\n",
        "1.    **Linear Regression:**\n",
        "\n",
        "     The equation we are trying to fit is:\n",
        "     $$y = \\theta_0 + \\theta_1 x$$\n",
        "     where $x$ is the feature and $y$ is the label.\n",
        "\n",
        "     We can rewrite the equation in vector form as:\n",
        "$$Y = X\\theta$$ where $X$ is a matrix with two columns, the first column is all 1s and the second column is the feature, and $Y$ is a vector with the labels. $\\theta$ is a vector with two elements, $\\theta_0$ and $\\theta_1$. The $X$ matrix will look like this:\n",
        "$$X = \\begin{bmatrix} 1 & x_1 \\\\ 1 & x_2 \\\\ \\vdots & \\vdots \\\\ 1 & x_n \\end{bmatrix}$$\n",
        "2. **Quadratic Regression:**\n",
        "\n",
        "     The equation we are trying to fit is:\n",
        "     $$y = \\theta_0 + \\theta_1 x + \\theta_2 x^2$$\n",
        "     where $x$ is the feature and $y$ is the label.\n",
        "\n",
        "     We can rewrite the equation in vector form as:\n",
        "$$Y = X\\theta$$where $X$ is a matrix with three columns, the first column is all 1s, the second column is the feature, and the third column is the feature squared, and $Y$ is a vector with the labels. $\\theta$ is a vector with three elements, $\\theta_0$, $\\theta_1$, and $\\theta_2$. The $X$ matrix will look like this:\n",
        "\n",
        "$$X = \\begin{bmatrix} 1 & x_1 & x_1^2 \\\\ 1 & x_2 & x_2^2 \\\\ \\vdots & \\vdots & \\vdots \\\\ 1 & x_n & x_n^2 \\end{bmatrix}$$\n",
        "3. **Cubic Regression:**\n",
        "\n",
        "     The equation we are trying to fit is:\n",
        "$$y = \\theta_0 + \\theta_1 x + \\theta_2 x^2 + \\theta_3 x^3$$\n",
        "     where $x$ is the feature and $y$ is the label.\n",
        "\n",
        "     We can rewrite the equation in vector form as:\n",
        "$$Y = X\\theta$$where $X$ is a matrix with four columns, the first column is all 1s, the second column is the feature, the third column is the feature squared, and the fourth column is the feature cubed, and $Y$ is a vector with the labels. $\\theta$ is a vector with four elements, $\\theta_0$, $\\theta_1$, $\\theta_2$, and $\\theta_3$. The $X$ matrix will look like this:\n",
        "$$X = \\begin{bmatrix} 1 & x_1 & x_1^2 & x_1^3 \\\\ 1 & x_2 & x_2^2 & x_2^3 \\\\ \\vdots & \\vdots & \\vdots & \\vdots \\\\ 1 & x_n & x_n^2 & x_n^3 \\end{bmatrix}$$\n",
        "\n",
        "Take 15 data points from the dataset and use them as the training set. Use the remaining data points as the test set. For each regression task, find the best $\\theta$ vector using the training set. Then, calculate the mean squared error (MSE) on the test set. Plot the training set, the test set (in a different color), and the best fit line for each regression task. Which regression task gives the best fit line? Which regression task gives the lowest MSE on the test set? Report your answers in a Markdown cell.\n",
        "\n",
        "**Note:** Do not use any built-in functions like `np.polyfit` or `sklearn.linear_model.LinearRegression` or any other built-in functions that perform polynomial regression. You must implement the regression tasks yourself."
      ]
    },
    {
      "cell_type": "markdown",
      "source": [
        "Step 1: Import Packages and Mount drive"
      ],
      "metadata": {
        "id": "Q0s5yJxBB9YC"
      }
    },
    {
      "cell_type": "code",
      "source": [
        "import pandas as pd\n",
        "import numpy as np\n",
        "import matplotlib.pyplot as plt\n",
        "from google.colab import drive\n",
        "drive.mount('/content/drive')"
      ],
      "metadata": {
        "colab": {
          "base_uri": "https://localhost:8080/"
        },
        "id": "R2XArpmtB6ch",
        "outputId": "050798ac-db5c-4ded-a8c9-b46dc87e6ba0"
      },
      "execution_count": 101,
      "outputs": [
        {
          "output_type": "stream",
          "name": "stdout",
          "text": [
            "Drive already mounted at /content/drive; to attempt to forcibly remount, call drive.mount(\"/content/drive\", force_remount=True).\n"
          ]
        }
      ]
    },
    {
      "cell_type": "markdown",
      "source": [
        "Step 2: Reading and separation of the dataset"
      ],
      "metadata": {
        "id": "HwyAVWA1COch"
      }
    },
    {
      "cell_type": "code",
      "source": [
        "file_path =  '/content/drive/My Drive/Numerical_Lab_Datasets/data.csv'\n",
        "df = pd.read_csv(file_path)\n",
        "df = df.to_numpy()\n",
        "X = df[:, 0]\n",
        "Y = df[:, 1]\n",
        "\n",
        "\n",
        "training_set = df[0:15]\n",
        "test_set = df[15:]\n",
        "\n",
        "train_x = training_set[:, 0]\n",
        "train_y = training_set[:, 1]\n",
        "\n",
        "test_x = test_set[:, 0]\n",
        "test_y = test_set[:, 1]\n",
        "\n",
        "print('training set:', training_set)\n",
        "print('testing set:', test_set)"
      ],
      "metadata": {
        "colab": {
          "base_uri": "https://localhost:8080/"
        },
        "id": "nY8fHMqaCVQ8",
        "outputId": "eab8b79f-924e-46ed-c92f-42c77e6f92cc"
      },
      "execution_count": 102,
      "outputs": [
        {
          "output_type": "stream",
          "name": "stdout",
          "text": [
            "training set: [[   0.799528   -1.26256 ]\n",
            " [  -0.936214   -3.506193]\n",
            " [  -4.72268  -107.2232  ]\n",
            " [  -3.602674  -49.13195 ]\n",
            " [   4.931834    8.901224]\n",
            " [  -0.850265   -5.466242]\n",
            " [   2.454072   -5.762632]\n",
            " [   2.309657   -0.600586]\n",
            " [   0.768204    1.222678]\n",
            " [   1.567869   -3.956637]\n",
            " [  -2.362821  -21.989895]\n",
            " [  -0.283113   -6.118123]\n",
            " [   1.634975  -10.46844 ]\n",
            " [   0.66841    -4.119557]\n",
            " [   0.998977   -3.029419]]\n",
            "testing set: [[ -2.482237 -21.761523]\n",
            " [  2.615475  -1.512952]\n",
            " [  1.060797  -4.754912]\n",
            " [  4.562287   6.507233]]\n"
          ]
        }
      ]
    },
    {
      "cell_type": "markdown",
      "source": [
        "Step 3: Finding the best  θ  vector using training_set for linear regression"
      ],
      "metadata": {
        "id": "7E2cEAidC34r"
      }
    },
    {
      "cell_type": "code",
      "source": [
        "linear_matrix = np.vstack([np.ones(train_x.size), train_x]).T\n",
        "print('linear matrix:')\n",
        "print(linear_matrix)\n",
        "\n",
        "avg_a = np.dot(np.ones(train_x.size), train_x)/train_x.size\n",
        "avg_b = np.dot(np.ones(train_y.size), train_y)/train_y.size\n",
        "\n",
        "a_tilde = train_x - avg_a\n",
        "b_tilde = train_y - avg_b\n",
        "\n",
        "std_a = np.sqrt(np.dot((train_x - avg_a), (train_x - avg_a))/(train_x.size-1))\n",
        "\n",
        "std_b = np.sqrt(np.dot((train_y - avg_b), (train_y - avg_b))/(train_y.size-1))\n",
        "\n",
        "rho = np.dot(a_tilde, b_tilde)/(np.sqrt(np.dot(a_tilde, a_tilde))*np.sqrt(np.dot(b_tilde, b_tilde)))\n",
        "\n",
        "l_2 = (rho*std_b)/std_a\n",
        "l_1 = avg_b - avg_a*l_2\n",
        "\n",
        "print('linear regression theta', l_1, l_2)"
      ],
      "metadata": {
        "colab": {
          "base_uri": "https://localhost:8080/"
        },
        "id": "HGGtMDhvDAR3",
        "outputId": "df7d813c-7e79-454f-e83b-c7b3cae52e90"
      },
      "execution_count": 103,
      "outputs": [
        {
          "output_type": "stream",
          "name": "stdout",
          "text": [
            "linear matrix:\n",
            "[[ 1.        0.799528]\n",
            " [ 1.       -0.936214]\n",
            " [ 1.       -4.72268 ]\n",
            " [ 1.       -3.602674]\n",
            " [ 1.        4.931834]\n",
            " [ 1.       -0.850265]\n",
            " [ 1.        2.454072]\n",
            " [ 1.        2.309657]\n",
            " [ 1.        0.768204]\n",
            " [ 1.        1.567869]\n",
            " [ 1.       -2.362821]\n",
            " [ 1.       -0.283113]\n",
            " [ 1.        1.634975]\n",
            " [ 1.        0.66841 ]\n",
            " [ 1.        0.998977]]\n",
            "linear regression theta -16.257799995801374 9.288420155888105\n"
          ]
        }
      ]
    },
    {
      "cell_type": "markdown",
      "source": [
        "Step 4: Finding the best θ vector using training_set for quadratic regression"
      ],
      "metadata": {
        "id": "eavBPG2zDGJp"
      }
    },
    {
      "cell_type": "code",
      "source": [
        "quadratic_matrix = np.vstack([np.ones(train_x.size), train_x, train_x**2]).T\n",
        "print('quadratic matrix:')\n",
        "print(quadratic_matrix)\n",
        "\n",
        "Q_T = quadratic_matrix.T\n",
        "Q_T_Q = Q_T @ quadratic_matrix\n",
        "Q_T_Q_inv = np.linalg.inv(Q_T_Q)\n",
        "Q_T_y = Q_T @ train_y\n",
        "quadratic_theta = Q_T_Q_inv @ Q_T_y\n",
        "q1, q2, q3 = quadratic_theta\n",
        "print('quadratic regression theta', q1, q2, q3)"
      ],
      "metadata": {
        "colab": {
          "base_uri": "https://localhost:8080/"
        },
        "id": "tlvBRoKYDLV7",
        "outputId": "f1b9bf7a-dad8-47da-9b4e-3f84643edbac"
      },
      "execution_count": 104,
      "outputs": [
        {
          "output_type": "stream",
          "name": "stdout",
          "text": [
            "quadratic matrix:\n",
            "[[ 1.          0.799528    0.63924502]\n",
            " [ 1.         -0.936214    0.87649665]\n",
            " [ 1.         -4.72268    22.30370638]\n",
            " [ 1.         -3.602674   12.97925995]\n",
            " [ 1.          4.931834   24.3229866 ]\n",
            " [ 1.         -0.850265    0.72295057]\n",
            " [ 1.          2.454072    6.02246938]\n",
            " [ 1.          2.309657    5.33451546]\n",
            " [ 1.          0.768204    0.59013739]\n",
            " [ 1.          1.567869    2.4582132 ]\n",
            " [ 1.         -2.362821    5.58292308]\n",
            " [ 1.         -0.283113    0.08015297]\n",
            " [ 1.          1.634975    2.67314325]\n",
            " [ 1.          0.66841     0.44677193]\n",
            " [ 1.          0.998977    0.99795505]]\n",
            "quadratic regression theta -5.939043843340838 8.69360942847321 -1.7757963345997896\n"
          ]
        }
      ]
    },
    {
      "cell_type": "markdown",
      "source": [
        "Step 5: Finding the best θ vector using training_set for cubic regression"
      ],
      "metadata": {
        "id": "AivOqudeDsHB"
      }
    },
    {
      "cell_type": "code",
      "source": [
        "cubic_matrix = np.vstack([np.ones(train_x.size), train_x, train_x**2, train_x**3]).T\n",
        "print('cubic matrix:')\n",
        "print(cubic_matrix)\n",
        "\n",
        "C_T = cubic_matrix.T\n",
        "C_T_C = C_T @ cubic_matrix\n",
        "C_T_C_inv = np.linalg.inv(C_T_C)\n",
        "C_T_y = C_T @ train_y\n",
        "cubic_theta = C_T_C_inv @ C_T_y\n",
        "c1,c2,c3,c4 = cubic_theta\n",
        "print('cubic regression theta', c1, c2, c3, c4)"
      ],
      "metadata": {
        "colab": {
          "base_uri": "https://localhost:8080/"
        },
        "id": "i4xNYeVNDyEf",
        "outputId": "6de3dc26-e413-461f-e06c-5c96904221a0"
      },
      "execution_count": 105,
      "outputs": [
        {
          "output_type": "stream",
          "name": "stdout",
          "text": [
            "cubic matrix:\n",
            "[[ 1.00000000e+00  7.99528000e-01  6.39245023e-01  5.11094295e-01]\n",
            " [ 1.00000000e+00 -9.36214000e-01  8.76496654e-01 -8.20588438e-01]\n",
            " [ 1.00000000e+00 -4.72268000e+00  2.23037064e+01 -1.05333268e+02]\n",
            " [ 1.00000000e+00 -3.60267400e+00  1.29792600e+01 -4.67600424e+01]\n",
            " [ 1.00000000e+00  4.93183400e+00  2.43229866e+01  1.19956932e+02]\n",
            " [ 1.00000000e+00 -8.50265000e-01  7.22950570e-01 -6.14699567e-01]\n",
            " [ 1.00000000e+00  2.45407200e+00  6.02246938e+00  1.47795735e+01]\n",
            " [ 1.00000000e+00  2.30965700e+00  5.33451546e+00  1.23209010e+01]\n",
            " [ 1.00000000e+00  7.68204000e-01  5.90137386e-01  4.53345900e-01]\n",
            " [ 1.00000000e+00  1.56786900e+00  2.45821320e+00  3.85415627e+00]\n",
            " [ 1.00000000e+00 -2.36282100e+00  5.58292308e+00 -1.31914479e+01]\n",
            " [ 1.00000000e+00 -2.83113000e-01  8.01529708e-02 -2.26923480e-02]\n",
            " [ 1.00000000e+00  1.63497500e+00  2.67314325e+00  4.37052239e+00]\n",
            " [ 1.00000000e+00  6.68410000e-01  4.46771928e-01  2.98626824e-01]\n",
            " [ 1.00000000e+00  9.98977000e-01  9.97955047e-01  9.96934139e-01]]\n",
            "cubic regression theta -1.8147593502454313 0.38725209616935174 -2.1144979630800247 0.5092238894016858\n"
          ]
        }
      ]
    },
    {
      "cell_type": "markdown",
      "source": [
        "Step 6: Calculate the mean squared error (MSE) on the test set for the Linear MSE"
      ],
      "metadata": {
        "id": "GvIHDJclFh3y"
      }
    },
    {
      "cell_type": "code",
      "source": [
        "linear_y_pred = l_1 + l_2*test_x\n",
        "mse_linear = np.mean((test_y - linear_y_pred)**2)\n",
        "print('Linear MSE:', mse_linear)"
      ],
      "metadata": {
        "colab": {
          "base_uri": "https://localhost:8080/"
        },
        "id": "dJG7N5KsE9OT",
        "outputId": "6accd03b-d5dd-4cb8-c09d-71f14f6adb8d"
      },
      "execution_count": 106,
      "outputs": [
        {
          "output_type": "stream",
          "name": "stdout",
          "text": [
            "Linear MSE: 196.64818147337445\n"
          ]
        }
      ]
    },
    {
      "cell_type": "markdown",
      "source": [
        "Step 7: Calculate the mean squared error (MSE) on the test set for the Quadratic MSE"
      ],
      "metadata": {
        "id": "fMwEG19vFulQ"
      }
    },
    {
      "cell_type": "code",
      "source": [
        "quadratic_y_pred = q1 + q2*test_x + q3*test_x**2\n",
        "mse_quadratic = np.mean((test_y - quadratic_y_pred)**2)\n",
        "print('Quadratic MSE:', mse_quadratic)"
      ],
      "metadata": {
        "colab": {
          "base_uri": "https://localhost:8080/"
        },
        "id": "vhjRnF9jF3Mz",
        "outputId": "90679959-42ad-401d-e0b6-255ab4fcdda5"
      },
      "execution_count": 107,
      "outputs": [
        {
          "output_type": "stream",
          "name": "stdout",
          "text": [
            "Quadratic MSE: 112.07532476906121\n"
          ]
        }
      ]
    },
    {
      "cell_type": "markdown",
      "source": [
        "Step 8: Calculate the mean squared error (MSE) on the test set for the Cubic MSE"
      ],
      "metadata": {
        "id": "Auq55QbEF8LG"
      }
    },
    {
      "cell_type": "code",
      "source": [
        "cubic_y_pred = c1 + c2*test_x + c3*test_x**2 + c4*test_x**3\n",
        "mse_cubic = np.mean((test_y - cubic_y_pred)**2)\n",
        "print('Cubic MSE:', mse_cubic)"
      ],
      "metadata": {
        "colab": {
          "base_uri": "https://localhost:8080/"
        },
        "id": "PRyI0VLzF9E1",
        "outputId": "87efae62-31ac-44d5-da71-c5460d43b809"
      },
      "execution_count": 108,
      "outputs": [
        {
          "output_type": "stream",
          "name": "stdout",
          "text": [
            "Cubic MSE: 8.072478823770275\n"
          ]
        }
      ]
    },
    {
      "cell_type": "markdown",
      "source": [
        "Step 9: Plot the training set, the test set (in a different color), and show the comparison"
      ],
      "metadata": {
        "id": "Y5OGbLTZGImb"
      }
    },
    {
      "cell_type": "code",
      "source": [
        "plt.scatter(train_x, train_y, label='Train')\n",
        "plt.scatter(test_x, test_y, label='Test')\n",
        "plt.legend()\n",
        "plt.show()"
      ],
      "metadata": {
        "colab": {
          "base_uri": "https://localhost:8080/",
          "height": 430
        },
        "id": "ZCfKBznmFAaM",
        "outputId": "9323bcbe-8200-4e77-c341-ed2eca03e088"
      },
      "execution_count": 109,
      "outputs": [
        {
          "output_type": "display_data",
          "data": {
            "text/plain": [
              "<Figure size 640x480 with 1 Axes>"
            ],
            "image/png": "[encoded data removed]"
          },
          "metadata": {}
        }
      ]
    },
    {
      "cell_type": "code",
      "source": [
        "#plot and show the comparison\n",
        "plt.figure(figsize=(12, 4))\n",
        "X = np.sort(X)\n",
        "plt.subplot(1, 3, 1)\n",
        "plt.scatter(train_x, train_y, label=\"Train\")\n",
        "plt.scatter(test_x, test_y, label=\"Test\")\n",
        "yl = l_1 + l_2*X\n",
        "plt.plot(X, yl, label=\"Linear\", color = 'red')\n",
        "plt.legend()\n",
        "plt.title(\"Linear Regression\")\n",
        "\n",
        "plt.subplot(1, 3, 2)\n",
        "plt.scatter(train_x, train_y, label=\"Train\")\n",
        "plt.scatter(test_x, test_y, label=\"Test\")\n",
        "yq = q1 + q2*X + q3*X**2\n",
        "plt.plot(X, yq, label=\"Quadratic\", color = 'blue')\n",
        "plt.legend()\n",
        "plt.title(\"Quadratic Regression\")\n",
        "\n",
        "plt.subplot(1, 3, 3)\n",
        "plt.scatter(train_x, train_y, label=\"Train\")\n",
        "plt.scatter(test_x, test_y, label=\"Test\")\n",
        "yc = c1 + c2*X + c3*X**2 + c4*X**3\n",
        "plt.plot(X, yc, label=\"Cubic\", color = 'green')\n",
        "plt.legend()\n",
        "plt.title(\"Cubic Regression\")\n",
        "plt.show()\n",
        "\n",
        "print('Linear MSE:', mse_linear)\n",
        "print('Quadratic MSE:', mse_quadratic)\n",
        "print('Cubic MSE:', mse_cubic)"
      ],
      "metadata": {
        "colab": {
          "base_uri": "https://localhost:8080/",
          "height": 446
        },
        "id": "XKNhUddMFDx9",
        "outputId": "035f5e48-dd65-42d9-dfac-c992747687e1"
      },
      "execution_count": 110,
      "outputs": [
        {
          "output_type": "display_data",
          "data": {
            "text/plain": [
              "<Figure size 1200x400 with 3 Axes>"
            ],
            "image/png": "[encoded data removed]"
          },
          "metadata": {}
        },
        {
          "output_type": "stream",
          "name": "stdout",
          "text": [
            "Linear MSE: 196.64818147337445\n",
            "Quadratic MSE: 112.07532476906121\n",
            "Cubic MSE: 8.072478823770275\n"
          ]
        }
      ]
    },
    {
      "cell_type": "markdown",
      "source": [
        "\n",
        "\n",
        "*   **Which regression task gives the best-fit line? Which regression task gives the lowest MSE on the test set?**\n",
        "\n",
        "\n",
        "\n",
        "\n",
        "* **Answer**: MSE measures how well a regression model fits the data. A lower MSE indicates that the model's predictions are closer to a better fit. For this data set, Cubic MSE (8.072478823770275) on the test set is the lowest among the other regression procedures. This provides the best fit in terms of minimizing prediction error.*"
      ],
      "metadata": {
        "id": "pdTOVaReFH43"
      }
    }
  ],
  "metadata": {
    "colab": {
      "provenance": []
    },
    "kernelspec": {
      "display_name": "Python 3",
      "language": "python",
      "name": "python3"
    },
    "language_info": {
      "name": "python",
      "version": "3.10.6 (tags/v3.10.6:9c7b4bd, Aug  1 2022, 21:53:49) [MSC v.1932 64 bit (AMD64)]"
    },
    "vscode": {
      "interpreter": {
        "hash": "b148fc9bfa8b60132af830e32e1690e4e023b803e92912df15b823b90141dda6"
      }
    }
  },
  "nbformat": 4,
  "nbformat_minor": 0
}