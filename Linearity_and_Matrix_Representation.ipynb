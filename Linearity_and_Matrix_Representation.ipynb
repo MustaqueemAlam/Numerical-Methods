{
  "nbformat": 4,
  "nbformat_minor": 0,
  "metadata": {
    "colab": {
      "provenance": []
    },
    "kernelspec": {
      "name": "python3",
      "display_name": "Python 3"
    },
    "language_info": {
      "name": "python"
    }
  },
  "cells": [
    {
      "cell_type": "markdown",
      "source": [
        "**3.** Given  \n",
        "\\( y_1 = x_1 + x_2 + x_3 \\)  \n",
        "\\( y_2 = 2x_1 + 3x_2 \\)  \n",
        "\\( y_3 = 0.5x_3 \\)\n",
        "\n",
        "**(a)** Observe, each of the \\( y_1, y_2, y_3 \\) are functions of  \n",
        "\\[\n",
        "x = \\begin{bmatrix} x_1 \\\\ x_2 \\\\ x_3 \\end{bmatrix}\n",
        "\\]  \n",
        "That is:  \n",
        "\\[\n",
        "y_1 = f_1(x), \\quad y_2 = f_2(x), \\quad y_3 = f_3(x)\n",
        "\\]  \n",
        "Are these functions linear or not?\n",
        "\n",
        "**(b)** If linear, put each of the functions in a dot product form, i.e., write each function  \n",
        "\\[\n",
        "f(x) = a^T x\n",
        "\\]\n",
        "\n",
        "**(c)** Write down the matrix \\( A \\), that will produce the output vector  \n",
        "\\[\n",
        "y = \\begin{bmatrix} y_1 \\\\ y_2 \\\\ y_3 \\end{bmatrix}\n",
        "\\]  \n",
        "such that  \n",
        "\\[\n",
        "y = Ax\n",
        "\\]\n"
      ],
      "metadata": {
        "id": "UnUO8n7hQf6j"
      }
    },
    {
      "cell_type": "code",
      "source": [
        "import numpy as np"
      ],
      "metadata": {
        "id": "iuBrUdPAQihL"
      },
      "execution_count": 3,
      "outputs": []
    },
    {
      "cell_type": "code",
      "source": [
        "# Define the input vector x\n",
        "x = np.array([1, 2, 3])"
      ],
      "metadata": {
        "id": "DQ5A9lt7Qiec"
      },
      "execution_count": 4,
      "outputs": []
    },
    {
      "cell_type": "code",
      "source": [
        "# Define functions\n",
        "def f1(x): return x[0] + x[1] + x[2]\n",
        "def f2(x): return 2*x[0] + 3*x[1]\n",
        "def f3(x): return 0.5*x[2]"
      ],
      "metadata": {
        "id": "FgYsdjneQibj"
      },
      "execution_count": 9,
      "outputs": []
    },
    {
      "cell_type": "code",
      "source": [
        "# Check linearity:\n",
        "# A function f(x) is linear if:\n",
        "# f(x + z) = f(x) + f(z) AND f(c * x) = c * f(x)\n",
        "\n",
        "z = np.array([4, 5, 6])\n",
        "c = 2\n",
        "\n",
        "print(\"Linearity check for f1:\")\n",
        "print(\"f1(x + z) =\", f1(x + z), \", f1(x) + f1(z) =\", f1(x) + f1(z))\n",
        "print(\"f1(c * x) =\", f1(c * x), \", c * f1(x) =\", c * f1(x))\n",
        "print()"
      ],
      "metadata": {
        "colab": {
          "base_uri": "https://localhost:8080/"
        },
        "id": "V7TS3m-bQiY-",
        "outputId": "dea135b3-19b0-4dee-c9e5-0240f970f299"
      },
      "execution_count": 10,
      "outputs": [
        {
          "output_type": "stream",
          "name": "stdout",
          "text": [
            "Linearity check for f1:\n",
            "f1(x + z) = 21 , f1(x) + f1(z) = 21\n",
            "f1(c * x) = 12 , c * f1(x) = 12\n",
            "\n"
          ]
        }
      ]
    },
    {
      "cell_type": "code",
      "source": [
        "print(\"Linearity check for f2:\")\n",
        "print(\"f2(x + z) =\", f2(x + z), \", f2(x) + f2(z) =\", f2(x) + f2(z))\n",
        "print(\"f2(c * x) =\", f2(c * x), \", c * f2(x) =\", c * f2(x))\n",
        "print()\n",
        "\n",
        "print(\"Linearity check for f3:\")\n",
        "print(\"f3(x + z) =\", f3(x + z), \", f3(x) + f3(z) =\", f3(x) + f3(z))\n",
        "print(\"f3(c * x) =\", f3(c * x), \", c * f3(x) =\", c * f3(x))\n",
        "print()"
      ],
      "metadata": {
        "colab": {
          "base_uri": "https://localhost:8080/"
        },
        "id": "wb70tcGFQiVr",
        "outputId": "cace3660-d7e9-4766-e80e-90c44af304ee"
      },
      "execution_count": 11,
      "outputs": [
        {
          "output_type": "stream",
          "name": "stdout",
          "text": [
            "Linearity check for f2:\n",
            "f2(x + z) = 31 , f2(x) + f2(z) = 31\n",
            "f2(c * x) = 16 , c * f2(x) = 16\n",
            "\n",
            "Linearity check for f3:\n",
            "f3(x + z) = 4.5 , f3(x) + f3(z) = 4.5\n",
            "f3(c * x) = 3.0 , c * f3(x) = 3.0\n",
            "\n"
          ]
        }
      ]
    },
    {
      "cell_type": "code",
      "source": [
        "# Dot product form: f(x) = a^T x\n",
        "a1 = np.array([1, 1, 1])\n",
        "a2 = np.array([2, 3, 0])\n",
        "a3 = np.array([0, 0, 0.5])\n",
        "\n",
        "print(\"Dot product forms:\")\n",
        "print(\"f1(x) = a1^T x =\", np.dot(a1, x))\n",
        "print(\"f2(x) = a2^T x =\", np.dot(a2, x))\n",
        "print(\"f3(x) = a3^T x =\", np.dot(a3, x))\n",
        "print()"
      ],
      "metadata": {
        "colab": {
          "base_uri": "https://localhost:8080/"
        },
        "id": "oT2p8UReQiTB",
        "outputId": "55578df8-1416-4443-cca9-d44300d4048e"
      },
      "execution_count": 12,
      "outputs": [
        {
          "output_type": "stream",
          "name": "stdout",
          "text": [
            "Dot product forms:\n",
            "f1(x) = a1^T x = 6\n",
            "f2(x) = a2^T x = 8\n",
            "f3(x) = a3^T x = 1.5\n",
            "\n"
          ]
        }
      ]
    },
    {
      "cell_type": "code",
      "source": [
        "# Matrix A such that y = Ax\n",
        "A = np.array([\n",
        "    [1, 1, 1],\n",
        "    [2, 3, 0],\n",
        "    [0, 0, 0.5]\n",
        "])\n",
        "\n",
        "y = A @ x\n",
        "print(\"Matrix A:\\n\", A)\n",
        "print(\"x =\", x)\n",
        "print(\"y = Ax =\", y)"
      ],
      "metadata": {
        "colab": {
          "base_uri": "https://localhost:8080/"
        },
        "id": "Ss6X_U8NQiQc",
        "outputId": "c19b3738-9f6a-49b0-9623-b81a0d83b882"
      },
      "execution_count": 13,
      "outputs": [
        {
          "output_type": "stream",
          "name": "stdout",
          "text": [
            "Matrix A:\n",
            " [[1.  1.  1. ]\n",
            " [2.  3.  0. ]\n",
            " [0.  0.  0.5]]\n",
            "x = [1 2 3]\n",
            "y = Ax = [6.  8.  1.5]\n"
          ]
        }
      ]
    }
  ]
}