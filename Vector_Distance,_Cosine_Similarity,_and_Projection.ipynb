{
  "nbformat": 4,
  "nbformat_minor": 0,
  "metadata": {
    "colab": {
      "provenance": []
    },
    "kernelspec": {
      "name": "python3",
      "display_name": "Python 3"
    },
    "language_info": {
      "name": "python"
    }
  },
  "cells": [
    {
      "cell_type": "markdown",
      "source": [
        "### 📘 Assignment: Vector Distance, Cosine Similarity, and Projection\n",
        "\n",
        "1. Consider three vectors:\n",
        "\n",
        "- **u** = [1, 2, −3]  \n",
        "- **v** = [−1, 2, 5]  \n",
        "- **w** = [0, 1, 2]  \n",
        "\n",
        "#### Tasks:\n",
        "\n",
        "**a.** Find the distances between **u** and **v**, and between **u** and **w**, i.e., compute ‖u − v‖ and ‖u − w‖.  \n",
        "Which of **v** and **w** is closer to **u** based on Euclidean distance?\n",
        "\n",
        "**b.** Compute the **cosine similarity** between **u** and **v**, and between **u** and **w** (i.e., the cosine of the angle between them).  \n",
        "Which of **v** and **w** is more similar to **u** based on cosine similarity?\n",
        "\n",
        "**c.** Compute:\n",
        "- **p₁** = Projection of **u** on **v**\n",
        "- **p₂** = Projection of **u** on **w**\n",
        "\n",
        "**d.** Find vectors:\n",
        "- **z₁** such that **u = p₁ + z₁** and **z₁** is perpendicular to **v**\n",
        "- **z₂** such that **u = p₂ + z₂** and **z₂** is perpendicular to **w**\n",
        "\n",
        "Which of **z₁** and **z₂** has the **smaller magnitude (norm)**?\n"
      ],
      "metadata": {
        "id": "TVba3hrw0IsM"
      }
    },
    {
      "cell_type": "code",
      "source": [
        "import numpy as np"
      ],
      "metadata": {
        "id": "ibOsNlst0Kns"
      },
      "execution_count": 1,
      "outputs": []
    },
    {
      "cell_type": "code",
      "source": [
        "# Define vectors\n",
        "u = np.array([1, 2, -3])\n",
        "v = np.array([-1, 2, 5])\n",
        "w = np.array([0, 1, 2])"
      ],
      "metadata": {
        "id": "aOKdGrSm0STg"
      },
      "execution_count": 2,
      "outputs": []
    },
    {
      "cell_type": "code",
      "source": [
        "# a. Euclidean distances\n",
        "dist_uv = np.linalg.norm(u - v)\n",
        "dist_uw = np.linalg.norm(u - w)\n",
        "print(\"a. Euclidean Distances:\")\n",
        "print(\"‖u - v‖ =\", round(dist_uv, 4))\n",
        "print(\"‖u - w‖ =\", round(dist_uw, 4))\n",
        "closer = \"v\" if dist_uv < dist_uw else \"w\"\n",
        "print(\"→ Vector\", closer, \"is closer to u based on Euclidean distance.\\n\")"
      ],
      "metadata": {
        "colab": {
          "base_uri": "https://localhost:8080/"
        },
        "id": "2-zOPzD80Wqx",
        "outputId": "1a45cd96-f35d-4a54-cfad-9bc45039ea89"
      },
      "execution_count": 4,
      "outputs": [
        {
          "output_type": "stream",
          "name": "stdout",
          "text": [
            "a. Euclidean Distances:\n",
            "‖u - v‖ = 8.2462\n",
            "‖u - w‖ = 5.1962\n",
            "→ Vector w is closer to u based on Euclidean distance.\n",
            "\n"
          ]
        }
      ]
    },
    {
      "cell_type": "code",
      "source": [
        "# b. Cosine similarities\n",
        "def cosine_sim(a, b):\n",
        "    return np.dot(a, b) / (np.linalg.norm(a) * np.linalg.norm(b))\n",
        "\n",
        "cos_uv = cosine_sim(u, v)\n",
        "cos_uw = cosine_sim(u, w)\n",
        "\n",
        "print(\"b. Cosine Similarities:\")\n",
        "print(\"cos(u, v) =\", round(cos_uv, 4))\n",
        "print(\"cos(u, w) =\", round(cos_uw, 4))\n",
        "more_similar = \"v\" if cos_uv > cos_uw else \"w\"\n",
        "print(\"→ Vector\", more_similar, \"is more similar to u based on cosine similarity.\\n\")"
      ],
      "metadata": {
        "colab": {
          "base_uri": "https://localhost:8080/"
        },
        "id": "ZsBbFx-x0X8p",
        "outputId": "b76de2eb-24d3-46f9-e088-daa1bbd5602b"
      },
      "execution_count": 5,
      "outputs": [
        {
          "output_type": "stream",
          "name": "stdout",
          "text": [
            "b. Cosine Similarities:\n",
            "cos(u, v) = -0.5855\n",
            "cos(u, w) = -0.4781\n",
            "→ Vector w is more similar to u based on cosine similarity.\n",
            "\n"
          ]
        }
      ]
    },
    {
      "cell_type": "code",
      "source": [
        "# c. Projection of u on v and w\n",
        "def projection(u, a):\n",
        "    return (np.dot(u, a) / np.dot(a, a)) * a\n",
        "\n",
        "p1 = projection(u, v)\n",
        "p2 = projection(u, w)\n",
        "\n",
        "print(\"c. Projections:\")\n",
        "print(\"Projection of u on v (p1):\", p1)\n",
        "print(\"Projection of u on w (p2):\", p2, \"\\n\")"
      ],
      "metadata": {
        "colab": {
          "base_uri": "https://localhost:8080/"
        },
        "id": "lq8j_jLo0frV",
        "outputId": "75695a83-9fee-4392-b94d-d8c7bf2bf997"
      },
      "execution_count": 6,
      "outputs": [
        {
          "output_type": "stream",
          "name": "stdout",
          "text": [
            "c. Projections:\n",
            "Projection of u on v (p1): [ 0.4 -0.8 -2. ]\n",
            "Projection of u on w (p2): [-0.  -0.8 -1.6] \n",
            "\n"
          ]
        }
      ]
    },
    {
      "cell_type": "code",
      "source": [
        "# d. Decompose u into parallel + perpendicular parts\n",
        "z1 = u - p1  # perpendicular to v\n",
        "z2 = u - p2  # perpendicular to w\n",
        "\n",
        "norm_z1 = np.linalg.norm(z1)\n",
        "norm_z2 = np.linalg.norm(z2)\n",
        "\n",
        "print(\"d. Decomposition (u = projection + perpendicular):\")\n",
        "print(\"z1 = u - p1 =\", z1)\n",
        "print(\"z2 = u - p2 =\", z2)\n",
        "print(\"‖z1‖ =\", round(norm_z1, 4))\n",
        "print(\"‖z2‖ =\", round(norm_z2, 4))\n",
        "\n",
        "smaller = \"z1\" if norm_z1 < norm_z2 else \"z2\"\n",
        "print(\"→\", smaller, \"has the smaller magnitude (norm).\")"
      ],
      "metadata": {
        "colab": {
          "base_uri": "https://localhost:8080/"
        },
        "id": "CO2vUcqm0jWu",
        "outputId": "3fec47b1-93a7-4e2d-d63c-8ce923e8c1f8"
      },
      "execution_count": 7,
      "outputs": [
        {
          "output_type": "stream",
          "name": "stdout",
          "text": [
            "d. Decomposition (u = projection + perpendicular):\n",
            "z1 = u - p1 = [ 0.6  2.8 -1. ]\n",
            "z2 = u - p2 = [ 1.   2.8 -1.4]\n",
            "‖z1‖ = 3.0332\n",
            "‖z2‖ = 3.2863\n",
            "→ z1 has the smaller magnitude (norm).\n"
          ]
        }
      ]
    }
  ]
}